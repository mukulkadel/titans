{
 "cells": [
  {
   "cell_type": "code",
   "execution_count": 1,
   "metadata": {},
   "outputs": [
    {
     "name": "stderr",
     "output_type": "stream",
     "text": [
      "Using TensorFlow backend.\n"
     ]
    }
   ],
   "source": [
    "import pandas as pd\n",
    "import pickle\n",
    "from sklearn.model_selection import train_test_split\n",
    "import keras"
   ]
  },
  {
   "cell_type": "code",
   "execution_count": 2,
   "metadata": {},
   "outputs": [
    {
     "name": "stdout",
     "output_type": "stream",
     "text": [
      "(10000, 1, 11509) (10000, 2)\n"
     ]
    }
   ],
   "source": [
    "data_x = pickle.load(open(\"data_x.pkl\",\"rb\")).toarray()\n",
    "data_x = data_x.reshape(data_x.shape[0],1,data_x.shape[1])\n",
    "data_y = pickle.load(open(\"data_y.pkl\",\"rb\")).values\n",
    "data_y = keras.utils.to_categorical(data_y)\n",
    "print(data_x.shape,data_y.shape)"
   ]
  },
  {
   "cell_type": "code",
   "execution_count": 3,
   "metadata": {},
   "outputs": [
    {
     "name": "stderr",
     "output_type": "stream",
     "text": [
      "c:\\users\\kadel\\appdata\\local\\programs\\python\\python36\\lib\\site-packages\\sklearn\\model_selection\\_split.py:2069: FutureWarning: From version 0.21, test_size will always complement train_size unless both are specified.\n",
      "  FutureWarning)\n"
     ]
    }
   ],
   "source": [
    "train_x,test_x,train_y,test_y = train_test_split(data_x,data_y,train_size=0.8)"
   ]
  },
  {
   "cell_type": "code",
   "execution_count": 4,
   "metadata": {},
   "outputs": [],
   "source": [
    "model = keras.Sequential()\n",
    "model.add(keras.layers.LSTM(20,activation=\"relu\",return_sequences=False))\n",
    "model.add(keras.layers.Dropout(0.2))\n",
    "model.add(keras.layers.Dense(300,activation=\"relu\"))\n",
    "model.add(keras.layers.Dropout(0.2))\n",
    "model.add(keras.layers.Dense(20,activation=\"relu\"))\n",
    "#model.add(keras.layers.Dense(10,activation=\"relu\"))\n",
    "model.add(keras.layers.Dense(2,activation=\"softmax\"))\n",
    "\n",
    "model.compile(optimizer=\"adam\",loss=\"categorical_crossentropy\",metrics=['accuracy'])"
   ]
  },
  {
   "cell_type": "code",
   "execution_count": 5,
   "metadata": {
    "scrolled": true
   },
   "outputs": [
    {
     "name": "stdout",
     "output_type": "stream",
     "text": [
      "Train on 8000 samples, validate on 2000 samples\n",
      "Epoch 1/100\n",
      "8000/8000 [==============================] - 24s 3ms/step - loss: 0.6530 - acc: 0.5855 - val_loss: 0.5590 - val_acc: 0.7150\n",
      "Epoch 2/100\n",
      "8000/8000 [==============================] - 20s 3ms/step - loss: 0.4454 - acc: 0.7966 - val_loss: 0.5686 - val_acc: 0.7115\n",
      "Epoch 3/100\n",
      "8000/8000 [==============================] - 19s 2ms/step - loss: 0.2901 - acc: 0.8856 - val_loss: 0.6425 - val_acc: 0.6960\n",
      "Epoch 4/100\n",
      "8000/8000 [==============================] - 19s 2ms/step - loss: 0.1881 - acc: 0.9319 - val_loss: 0.7478 - val_acc: 0.6890\n",
      "Epoch 5/100\n",
      "8000/8000 [==============================] - 20s 2ms/step - loss: 0.1325 - acc: 0.9554 - val_loss: 0.7998 - val_acc: 0.6885\n",
      "Epoch 6/100\n",
      "8000/8000 [==============================] - 19s 2ms/step - loss: 0.0951 - acc: 0.9702 - val_loss: 0.9478 - val_acc: 0.6840\n",
      "Epoch 7/100\n",
      "8000/8000 [==============================] - 19s 2ms/step - loss: 0.0744 - acc: 0.9754 - val_loss: 1.0896 - val_acc: 0.6710\n",
      "Epoch 8/100\n",
      "8000/8000 [==============================] - 20s 2ms/step - loss: 0.0575 - acc: 0.9809 - val_loss: 1.1756 - val_acc: 0.6800\n",
      "Epoch 9/100\n",
      "8000/8000 [==============================] - 20s 3ms/step - loss: 0.0504 - acc: 0.9801 - val_loss: 1.2714 - val_acc: 0.6735\n",
      "Epoch 10/100\n",
      "8000/8000 [==============================] - 19s 2ms/step - loss: 0.0449 - acc: 0.9832 - val_loss: 1.2895 - val_acc: 0.6755\n",
      "Epoch 11/100\n",
      "8000/8000 [==============================] - 19s 2ms/step - loss: 0.0426 - acc: 0.9834 - val_loss: 1.3737 - val_acc: 0.6845\n",
      "Epoch 12/100\n",
      "8000/8000 [==============================] - 20s 2ms/step - loss: 0.0345 - acc: 0.9876 - val_loss: 1.4092 - val_acc: 0.6750\n",
      "Epoch 13/100\n",
      "8000/8000 [==============================] - 21s 3ms/step - loss: 0.0331 - acc: 0.9879 - val_loss: 1.4603 - val_acc: 0.6720\n",
      "Epoch 14/100\n",
      "8000/8000 [==============================] - 20s 3ms/step - loss: 0.0311 - acc: 0.9878 - val_loss: 1.5603 - val_acc: 0.6745\n",
      "Epoch 15/100\n",
      "8000/8000 [==============================] - 20s 2ms/step - loss: 0.0289 - acc: 0.9880 - val_loss: 1.6092 - val_acc: 0.6675\n",
      "Epoch 16/100\n",
      "8000/8000 [==============================] - 19s 2ms/step - loss: 0.0310 - acc: 0.9878 - val_loss: 1.6457 - val_acc: 0.6750\n",
      "Epoch 17/100\n",
      "8000/8000 [==============================] - 20s 2ms/step - loss: 0.0307 - acc: 0.9875 - val_loss: 1.5085 - val_acc: 0.6750\n",
      "Epoch 18/100\n",
      "8000/8000 [==============================] - 19s 2ms/step - loss: 0.0250 - acc: 0.9897 - val_loss: 1.6647 - val_acc: 0.6725\n",
      "Epoch 19/100\n",
      "8000/8000 [==============================] - 19s 2ms/step - loss: 0.0262 - acc: 0.9894 - val_loss: 1.6941 - val_acc: 0.6710\n",
      "Epoch 20/100\n",
      "8000/8000 [==============================] - 20s 2ms/step - loss: 0.0244 - acc: 0.9892 - val_loss: 1.6842 - val_acc: 0.6700\n",
      "Epoch 21/100\n",
      "8000/8000 [==============================] - 19s 2ms/step - loss: 0.0248 - acc: 0.9890 - val_loss: 1.7490 - val_acc: 0.6740\n",
      "Epoch 22/100\n",
      "8000/8000 [==============================] - 19s 2ms/step - loss: 0.0279 - acc: 0.9868 - val_loss: 1.5836 - val_acc: 0.6770\n",
      "Epoch 23/100\n",
      "8000/8000 [==============================] - 19s 2ms/step - loss: 0.0258 - acc: 0.9881 - val_loss: 1.7377 - val_acc: 0.6720\n",
      "Epoch 24/100\n",
      "8000/8000 [==============================] - 19s 2ms/step - loss: 0.0252 - acc: 0.9892 - val_loss: 1.7155 - val_acc: 0.6730\n",
      "Epoch 25/100\n",
      "8000/8000 [==============================] - 19s 2ms/step - loss: 0.0224 - acc: 0.9911 - val_loss: 1.8134 - val_acc: 0.6770\n",
      "Epoch 26/100\n",
      "8000/8000 [==============================] - 19s 2ms/step - loss: 0.0229 - acc: 0.9895 - val_loss: 1.8306 - val_acc: 0.6675\n",
      "Epoch 27/100\n",
      "8000/8000 [==============================] - 20s 2ms/step - loss: 0.0233 - acc: 0.9895 - val_loss: 1.8623 - val_acc: 0.6705\n",
      "Epoch 28/100\n",
      "8000/8000 [==============================] - 20s 3ms/step - loss: 0.0198 - acc: 0.9918 - val_loss: 1.9300 - val_acc: 0.6690\n",
      "Epoch 29/100\n",
      "8000/8000 [==============================] - 20s 2ms/step - loss: 0.0209 - acc: 0.9906 - val_loss: 1.9086 - val_acc: 0.6715\n",
      "Epoch 30/100\n",
      "8000/8000 [==============================] - 19s 2ms/step - loss: 0.0214 - acc: 0.9904 - val_loss: 1.9331 - val_acc: 0.6655\n",
      "Epoch 31/100\n",
      "8000/8000 [==============================] - 19s 2ms/step - loss: 0.0215 - acc: 0.9892 - val_loss: 1.9369 - val_acc: 0.6745\n",
      "Epoch 32/100\n",
      "8000/8000 [==============================] - 19s 2ms/step - loss: 0.0212 - acc: 0.9896 - val_loss: 1.8753 - val_acc: 0.6745\n",
      "Epoch 33/100\n",
      "8000/8000 [==============================] - 19s 2ms/step - loss: 0.0198 - acc: 0.9905 - val_loss: 1.9458 - val_acc: 0.6710\n",
      "Epoch 34/100\n",
      "8000/8000 [==============================] - 18s 2ms/step - loss: 0.0209 - acc: 0.9894 - val_loss: 2.0275 - val_acc: 0.6665\n",
      "Epoch 35/100\n",
      "8000/8000 [==============================] - 20s 2ms/step - loss: 0.0230 - acc: 0.9891 - val_loss: 1.9130 - val_acc: 0.6700\n",
      "Epoch 36/100\n",
      "8000/8000 [==============================] - 19s 2ms/step - loss: 0.0202 - acc: 0.9901 - val_loss: 1.9244 - val_acc: 0.6660\n",
      "Epoch 37/100\n",
      "8000/8000 [==============================] - 19s 2ms/step - loss: 0.0215 - acc: 0.9906 - val_loss: 1.9404 - val_acc: 0.6685\n",
      "Epoch 38/100\n",
      "8000/8000 [==============================] - 19s 2ms/step - loss: 0.0201 - acc: 0.9908 - val_loss: 2.0166 - val_acc: 0.6690\n",
      "Epoch 39/100\n",
      "8000/8000 [==============================] - 20s 2ms/step - loss: 0.0200 - acc: 0.9905 - val_loss: 2.0082 - val_acc: 0.6705\n",
      "Epoch 40/100\n",
      "8000/8000 [==============================] - 19s 2ms/step - loss: 0.0195 - acc: 0.9909 - val_loss: 1.9719 - val_acc: 0.6670\n",
      "Epoch 41/100\n",
      "8000/8000 [==============================] - 19s 2ms/step - loss: 0.0195 - acc: 0.9904 - val_loss: 2.0253 - val_acc: 0.6705\n",
      "Epoch 42/100\n",
      "8000/8000 [==============================] - 20s 2ms/step - loss: 0.0200 - acc: 0.9906 - val_loss: 1.9988 - val_acc: 0.6595\n",
      "Epoch 43/100\n",
      "8000/8000 [==============================] - 20s 2ms/step - loss: 0.0198 - acc: 0.9904 - val_loss: 2.1015 - val_acc: 0.6685\n",
      "Epoch 44/100\n",
      "8000/8000 [==============================] - 19s 2ms/step - loss: 0.0185 - acc: 0.9914 - val_loss: 2.0674 - val_acc: 0.6705\n",
      "Epoch 45/100\n",
      "8000/8000 [==============================] - 19s 2ms/step - loss: 0.0189 - acc: 0.9915 - val_loss: 2.1519 - val_acc: 0.6735\n",
      "Epoch 46/100\n",
      "8000/8000 [==============================] - 19s 2ms/step - loss: 0.0200 - acc: 0.9902 - val_loss: 2.1203 - val_acc: 0.6685\n",
      "Epoch 47/100\n",
      "8000/8000 [==============================] - 20s 2ms/step - loss: 0.0187 - acc: 0.9909 - val_loss: 2.1642 - val_acc: 0.6645\n",
      "Epoch 48/100\n",
      "8000/8000 [==============================] - 19s 2ms/step - loss: 0.0194 - acc: 0.9911 - val_loss: 2.0736 - val_acc: 0.6655\n",
      "Epoch 49/100\n",
      "8000/8000 [==============================] - 19s 2ms/step - loss: 0.0190 - acc: 0.9900 - val_loss: 2.1132 - val_acc: 0.6735\n",
      "Epoch 50/100\n",
      "8000/8000 [==============================] - 20s 2ms/step - loss: 0.0190 - acc: 0.9909 - val_loss: 2.1123 - val_acc: 0.6705\n",
      "Epoch 51/100\n",
      "8000/8000 [==============================] - 19s 2ms/step - loss: 0.0177 - acc: 0.9914 - val_loss: 2.1699 - val_acc: 0.6720\n",
      "Epoch 52/100\n",
      "8000/8000 [==============================] - 19s 2ms/step - loss: 0.0183 - acc: 0.9916 - val_loss: 2.1619 - val_acc: 0.6690\n",
      "Epoch 53/100\n",
      "8000/8000 [==============================] - 19s 2ms/step - loss: 0.0187 - acc: 0.9914 - val_loss: 2.0296 - val_acc: 0.6690\n",
      "Epoch 54/100\n",
      "8000/8000 [==============================] - 19s 2ms/step - loss: 0.0171 - acc: 0.9913 - val_loss: 2.1327 - val_acc: 0.6680\n",
      "Epoch 55/100\n",
      "8000/8000 [==============================] - 20s 2ms/step - loss: 0.0168 - acc: 0.9924 - val_loss: 2.3328 - val_acc: 0.6720\n",
      "Epoch 56/100\n",
      "8000/8000 [==============================] - 19s 2ms/step - loss: 0.0189 - acc: 0.9902 - val_loss: 2.2673 - val_acc: 0.6640\n",
      "Epoch 57/100\n",
      "8000/8000 [==============================] - 19s 2ms/step - loss: 0.0185 - acc: 0.9920 - val_loss: 2.2512 - val_acc: 0.6695\n",
      "Epoch 58/100\n",
      "8000/8000 [==============================] - 20s 2ms/step - loss: 0.0171 - acc: 0.9914 - val_loss: 2.2755 - val_acc: 0.6740\n",
      "Epoch 59/100\n",
      "8000/8000 [==============================] - 20s 2ms/step - loss: 0.0161 - acc: 0.9920 - val_loss: 2.4084 - val_acc: 0.6695\n",
      "Epoch 60/100\n"
     ]
    },
    {
     "name": "stdout",
     "output_type": "stream",
     "text": [
      "8000/8000 [==============================] - 19s 2ms/step - loss: 0.0185 - acc: 0.9913 - val_loss: 2.2507 - val_acc: 0.6715\n",
      "Epoch 61/100\n",
      "8000/8000 [==============================] - 19s 2ms/step - loss: 0.0180 - acc: 0.9918 - val_loss: 2.3884 - val_acc: 0.6600\n",
      "Epoch 62/100\n",
      "8000/8000 [==============================] - 19s 2ms/step - loss: 0.0169 - acc: 0.9909 - val_loss: 2.3476 - val_acc: 0.6735\n",
      "Epoch 63/100\n",
      "8000/8000 [==============================] - 19s 2ms/step - loss: 0.0186 - acc: 0.9913 - val_loss: 2.2979 - val_acc: 0.6595\n",
      "Epoch 64/100\n",
      "8000/8000 [==============================] - 19s 2ms/step - loss: 0.0176 - acc: 0.9924 - val_loss: 2.3422 - val_acc: 0.6700\n",
      "Epoch 65/100\n",
      "8000/8000 [==============================] - 20s 2ms/step - loss: 0.0168 - acc: 0.9924 - val_loss: 2.4582 - val_acc: 0.6705\n",
      "Epoch 66/100\n",
      "8000/8000 [==============================] - 19s 2ms/step - loss: 0.0170 - acc: 0.9916 - val_loss: 2.4128 - val_acc: 0.6685\n",
      "Epoch 67/100\n",
      "8000/8000 [==============================] - 19s 2ms/step - loss: 0.0159 - acc: 0.9925 - val_loss: 2.4657 - val_acc: 0.6715\n",
      "Epoch 68/100\n",
      "8000/8000 [==============================] - 20s 2ms/step - loss: 0.0160 - acc: 0.9924 - val_loss: 2.4792 - val_acc: 0.6670\n",
      "Epoch 69/100\n",
      "8000/8000 [==============================] - 19s 2ms/step - loss: 0.0182 - acc: 0.9914 - val_loss: 2.3375 - val_acc: 0.6690\n",
      "Epoch 70/100\n",
      "8000/8000 [==============================] - 19s 2ms/step - loss: 0.0177 - acc: 0.9923 - val_loss: 2.3129 - val_acc: 0.6735\n",
      "Epoch 71/100\n",
      "8000/8000 [==============================] - 20s 2ms/step - loss: 0.0182 - acc: 0.9918 - val_loss: 2.2428 - val_acc: 0.6710\n",
      "Epoch 72/100\n",
      "8000/8000 [==============================] - 19s 2ms/step - loss: 0.0190 - acc: 0.9915 - val_loss: 2.2578 - val_acc: 0.6700\n",
      "Epoch 73/100\n",
      "8000/8000 [==============================] - 19s 2ms/step - loss: 0.0158 - acc: 0.9923 - val_loss: 2.5147 - val_acc: 0.6700\n",
      "Epoch 74/100\n",
      "8000/8000 [==============================] - 19s 2ms/step - loss: 0.0189 - acc: 0.9906 - val_loss: 2.3398 - val_acc: 0.6690\n",
      "Epoch 75/100\n",
      "8000/8000 [==============================] - 20s 2ms/step - loss: 0.0153 - acc: 0.9925 - val_loss: 2.5746 - val_acc: 0.6665\n",
      "Epoch 76/100\n",
      "8000/8000 [==============================] - 19s 2ms/step - loss: 0.0175 - acc: 0.9916 - val_loss: 2.4066 - val_acc: 0.6690\n",
      "Epoch 77/100\n",
      "8000/8000 [==============================] - 19s 2ms/step - loss: 0.0169 - acc: 0.9920 - val_loss: 2.5258 - val_acc: 0.6650\n",
      "Epoch 78/100\n",
      "8000/8000 [==============================] - 20s 2ms/step - loss: 0.0171 - acc: 0.9930 - val_loss: 2.5426 - val_acc: 0.6700\n",
      "Epoch 79/100\n",
      "8000/8000 [==============================] - 19s 2ms/step - loss: 0.0162 - acc: 0.9926 - val_loss: 2.5273 - val_acc: 0.6660\n",
      "Epoch 80/100\n",
      "8000/8000 [==============================] - 18s 2ms/step - loss: 0.0163 - acc: 0.9921 - val_loss: 2.3931 - val_acc: 0.6650\n",
      "Epoch 81/100\n",
      "8000/8000 [==============================] - 19s 2ms/step - loss: 0.0186 - acc: 0.9911 - val_loss: 2.1677 - val_acc: 0.6725\n",
      "Epoch 82/100\n",
      "8000/8000 [==============================] - 19s 2ms/step - loss: 0.0164 - acc: 0.9921 - val_loss: 2.4803 - val_acc: 0.6575\n",
      "Epoch 83/100\n",
      "8000/8000 [==============================] - 19s 2ms/step - loss: 0.0180 - acc: 0.9908 - val_loss: 2.3647 - val_acc: 0.6665\n",
      "Epoch 84/100\n",
      "8000/8000 [==============================] - 18s 2ms/step - loss: 0.0169 - acc: 0.9923 - val_loss: 2.2685 - val_acc: 0.6735\n",
      "Epoch 85/100\n",
      "8000/8000 [==============================] - 19s 2ms/step - loss: 0.0172 - acc: 0.9913 - val_loss: 2.4270 - val_acc: 0.6720\n",
      "Epoch 86/100\n",
      "8000/8000 [==============================] - 19s 2ms/step - loss: 0.0166 - acc: 0.9924 - val_loss: 2.3479 - val_acc: 0.6750\n",
      "Epoch 87/100\n",
      "8000/8000 [==============================] - 19s 2ms/step - loss: 0.0163 - acc: 0.9911 - val_loss: 2.3470 - val_acc: 0.6735\n",
      "Epoch 88/100\n",
      "8000/8000 [==============================] - 19s 2ms/step - loss: 0.0177 - acc: 0.9911 - val_loss: 2.3815 - val_acc: 0.6685\n",
      "Epoch 89/100\n",
      "8000/8000 [==============================] - 19s 2ms/step - loss: 0.0174 - acc: 0.9926 - val_loss: 2.2602 - val_acc: 0.6695\n",
      "Epoch 90/100\n",
      "8000/8000 [==============================] - 19s 2ms/step - loss: 0.0163 - acc: 0.9916 - val_loss: 2.4260 - val_acc: 0.6665\n",
      "Epoch 91/100\n",
      "8000/8000 [==============================] - 19s 2ms/step - loss: 0.0163 - acc: 0.9924 - val_loss: 2.5128 - val_acc: 0.6645\n",
      "Epoch 92/100\n",
      "8000/8000 [==============================] - 19s 2ms/step - loss: 0.0154 - acc: 0.9930 - val_loss: 2.4967 - val_acc: 0.6685\n",
      "Epoch 93/100\n",
      "8000/8000 [==============================] - 19s 2ms/step - loss: 0.0164 - acc: 0.9920 - val_loss: 2.3196 - val_acc: 0.6660\n",
      "Epoch 94/100\n",
      "8000/8000 [==============================] - 20s 2ms/step - loss: 0.0161 - acc: 0.9920 - val_loss: 2.4288 - val_acc: 0.6800\n",
      "Epoch 95/100\n",
      "8000/8000 [==============================] - 19s 2ms/step - loss: 0.0159 - acc: 0.9928 - val_loss: 2.4266 - val_acc: 0.6740\n",
      "Epoch 96/100\n",
      "8000/8000 [==============================] - 19s 2ms/step - loss: 0.0169 - acc: 0.9915 - val_loss: 2.5658 - val_acc: 0.6720\n",
      "Epoch 97/100\n",
      "8000/8000 [==============================] - 19s 2ms/step - loss: 0.0164 - acc: 0.9921 - val_loss: 2.3853 - val_acc: 0.6725\n",
      "Epoch 98/100\n",
      "8000/8000 [==============================] - 19s 2ms/step - loss: 0.0142 - acc: 0.9924 - val_loss: 2.6700 - val_acc: 0.6685\n",
      "Epoch 99/100\n",
      "8000/8000 [==============================] - 19s 2ms/step - loss: 0.0172 - acc: 0.9914 - val_loss: 2.4270 - val_acc: 0.6645\n",
      "Epoch 100/100\n",
      "8000/8000 [==============================] - 19s 2ms/step - loss: 0.0147 - acc: 0.9921 - val_loss: 2.6001 - val_acc: 0.6640\n",
      "_________________________________________________________________\n",
      "Layer (type)                 Output Shape              Param #   \n",
      "=================================================================\n",
      "lstm_1 (LSTM)                (None, 20)                922400    \n",
      "_________________________________________________________________\n",
      "dropout_1 (Dropout)          (None, 20)                0         \n",
      "_________________________________________________________________\n",
      "dense_1 (Dense)              (None, 300)               6300      \n",
      "_________________________________________________________________\n",
      "dropout_2 (Dropout)          (None, 300)               0         \n",
      "_________________________________________________________________\n",
      "dense_2 (Dense)              (None, 20)                6020      \n",
      "_________________________________________________________________\n",
      "dense_3 (Dense)              (None, 2)                 42        \n",
      "=================================================================\n",
      "Total params: 934,762\n",
      "Trainable params: 934,762\n",
      "Non-trainable params: 0\n",
      "_________________________________________________________________\n",
      "None\n"
     ]
    }
   ],
   "source": [
    "model.fit(train_x,train_y,epochs=100,validation_data=(test_x,test_y))\n",
    "print(model.summary())"
   ]
  },
  {
   "cell_type": "code",
   "execution_count": 6,
   "metadata": {},
   "outputs": [
    {
     "name": "stdout",
     "output_type": "stream",
     "text": [
      "2000/2000 [==============================] - 1s 547us/step\n",
      "[2.600053674697876, 0.664]\n"
     ]
    },
    {
     "data": {
      "text/plain": [
       "array([[5.9976017e-01, 4.0023986e-01],\n",
       "       [1.4410877e-08, 1.0000000e+00]], dtype=float32)"
      ]
     },
     "execution_count": 6,
     "metadata": {},
     "output_type": "execute_result"
    }
   ],
   "source": [
    "print(model.evaluate(test_x,test_y))\n",
    "model.predict(test_x[-2:])"
   ]
  },
  {
   "cell_type": "code",
   "execution_count": 7,
   "metadata": {},
   "outputs": [],
   "source": [
    "model.save(\"rnn.h5\")"
   ]
  },
  {
   "cell_type": "code",
   "execution_count": 8,
   "metadata": {},
   "outputs": [
    {
     "data": {
      "text/plain": [
       "'\\nat 1000 records, tanh. acc 0.9913\\nat 1000 records, relu. acc 0.9925\\nat 2000 records, relu. acc 0.9925 val 0.6175\\n'"
      ]
     },
     "execution_count": 8,
     "metadata": {},
     "output_type": "execute_result"
    }
   ],
   "source": [
    "\"\"\"\n",
    "at 1000 records, tanh. acc 0.9913\n",
    "at 1000 records, relu. acc 0.9925\n",
    "at 2000 records, relu. acc 0.9925 val 0.6175\n",
    "at 10000 records, relu. acc 0.9921 val 0.6640\n",
    "\"\"\""
   ]
  }
 ],
 "metadata": {
  "kernelspec": {
   "display_name": "Python 3",
   "language": "python",
   "name": "python3"
  },
  "language_info": {
   "codemirror_mode": {
    "name": "ipython",
    "version": 3
   },
   "file_extension": ".py",
   "mimetype": "text/x-python",
   "name": "python",
   "nbconvert_exporter": "python",
   "pygments_lexer": "ipython3",
   "version": "3.6.5"
  }
 },
 "nbformat": 4,
 "nbformat_minor": 2
}
