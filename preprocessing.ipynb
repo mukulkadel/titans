{
 "cells": [
  {
   "cell_type": "code",
   "execution_count": 54,
   "metadata": {},
   "outputs": [],
   "source": [
    "import pandas as pd\n",
    "import pickle\n",
    "import re\n",
    "from sklearn.feature_extraction.text import HashingVectorizer,CountVectorizer,TfidfVectorizer\n",
    "from nltk.stem.snowball import SnowballStemmer"
   ]
  },
  {
   "cell_type": "code",
   "execution_count": 55,
   "metadata": {},
   "outputs": [],
   "source": [
    "stemmer = SnowballStemmer('english')\n",
    "def clean_tweet(tweet):\n",
    "    tweet = re.sub(\"(@[A-Za-z0-9_]+)|([^A-Za-z \\t]) |(\\w+:\\/\\/\\S+)\", \" \", tweet.lower())\n",
    "    return ' '.join([stemmer.stem(word) for word in tweet.split()])"
   ]
  },
  {
   "cell_type": "code",
   "execution_count": 56,
   "metadata": {
    "scrolled": true
   },
   "outputs": [
    {
     "data": {
      "text/html": [
       "<div>\n",
       "<style scoped>\n",
       "    .dataframe tbody tr th:only-of-type {\n",
       "        vertical-align: middle;\n",
       "    }\n",
       "\n",
       "    .dataframe tbody tr th {\n",
       "        vertical-align: top;\n",
       "    }\n",
       "\n",
       "    .dataframe thead th {\n",
       "        text-align: right;\n",
       "    }\n",
       "</style>\n",
       "<table border=\"1\" class=\"dataframe\">\n",
       "  <thead>\n",
       "    <tr style=\"text-align: right;\">\n",
       "      <th></th>\n",
       "      <th>0</th>\n",
       "      <th>1</th>\n",
       "      <th>2</th>\n",
       "      <th>3</th>\n",
       "      <th>4</th>\n",
       "      <th>5</th>\n",
       "    </tr>\n",
       "  </thead>\n",
       "  <tbody>\n",
       "    <tr>\n",
       "      <th>931767</th>\n",
       "      <td>1</td>\n",
       "      <td>1770923027</td>\n",
       "      <td>Mon May 11 22:38:16 PDT 2009</td>\n",
       "      <td>NO_QUERY</td>\n",
       "      <td>CocomeroUIUC</td>\n",
       "      <td>Pistachio is coming back tomorrow</td>\n",
       "    </tr>\n",
       "    <tr>\n",
       "      <th>1472660</th>\n",
       "      <td>1</td>\n",
       "      <td>2065413955</td>\n",
       "      <td>Sun Jun 07 08:32:45 PDT 2009</td>\n",
       "      <td>NO_QUERY</td>\n",
       "      <td>tacigt</td>\n",
       "      <td>vou almoÃ§ar na vovÃ³! missed her so bad</td>\n",
       "    </tr>\n",
       "    <tr>\n",
       "      <th>328804</th>\n",
       "      <td>0</td>\n",
       "      <td>2010915287</td>\n",
       "      <td>Tue Jun 02 18:10:36 PDT 2009</td>\n",
       "      <td>NO_QUERY</td>\n",
       "      <td>jputman</td>\n",
       "      <td>Twitter is blocked in China now.  Support EFF ...</td>\n",
       "    </tr>\n",
       "    <tr>\n",
       "      <th>1032317</th>\n",
       "      <td>1</td>\n",
       "      <td>1933177268</td>\n",
       "      <td>Tue May 26 23:11:51 PDT 2009</td>\n",
       "      <td>NO_QUERY</td>\n",
       "      <td>JoJojb</td>\n",
       "      <td>@mcclorybrin catch up already! I sent u a mess...</td>\n",
       "    </tr>\n",
       "    <tr>\n",
       "      <th>105965</th>\n",
       "      <td>0</td>\n",
       "      <td>1823321188</td>\n",
       "      <td>Sat May 16 21:39:58 PDT 2009</td>\n",
       "      <td>NO_QUERY</td>\n",
       "      <td>axegrrl</td>\n",
       "      <td>got home from the comic book meetup and the pe...</td>\n",
       "    </tr>\n",
       "  </tbody>\n",
       "</table>\n",
       "</div>"
      ],
      "text/plain": [
       "         0           1                             2         3             4  \\\n",
       "931767   1  1770923027  Mon May 11 22:38:16 PDT 2009  NO_QUERY  CocomeroUIUC   \n",
       "1472660  1  2065413955  Sun Jun 07 08:32:45 PDT 2009  NO_QUERY        tacigt   \n",
       "328804   0  2010915287  Tue Jun 02 18:10:36 PDT 2009  NO_QUERY       jputman   \n",
       "1032317  1  1933177268  Tue May 26 23:11:51 PDT 2009  NO_QUERY        JoJojb   \n",
       "105965   0  1823321188  Sat May 16 21:39:58 PDT 2009  NO_QUERY       axegrrl   \n",
       "\n",
       "                                                         5  \n",
       "931767                  Pistachio is coming back tomorrow   \n",
       "1472660          vou almoÃ§ar na vovÃ³! missed her so bad   \n",
       "328804   Twitter is blocked in China now.  Support EFF ...  \n",
       "1032317  @mcclorybrin catch up already! I sent u a mess...  \n",
       "105965   got home from the comic book meetup and the pe...  "
      ]
     },
     "execution_count": 56,
     "metadata": {},
     "output_type": "execute_result"
    }
   ],
   "source": [
    "raw_data = pd.read_csv(\"trainandtestdata/train.csv\",header=None)\n",
    "raw_data = raw_data.sample(n=1000)\n",
    "raw_data.head()"
   ]
  },
  {
   "cell_type": "code",
   "execution_count": 57,
   "metadata": {},
   "outputs": [
    {
     "data": {
      "text/html": [
       "<div>\n",
       "<style scoped>\n",
       "    .dataframe tbody tr th:only-of-type {\n",
       "        vertical-align: middle;\n",
       "    }\n",
       "\n",
       "    .dataframe tbody tr th {\n",
       "        vertical-align: top;\n",
       "    }\n",
       "\n",
       "    .dataframe thead th {\n",
       "        text-align: right;\n",
       "    }\n",
       "</style>\n",
       "<table border=\"1\" class=\"dataframe\">\n",
       "  <thead>\n",
       "    <tr style=\"text-align: right;\">\n",
       "      <th></th>\n",
       "      <th>0</th>\n",
       "      <th>1</th>\n",
       "    </tr>\n",
       "  </thead>\n",
       "  <tbody>\n",
       "    <tr>\n",
       "      <th>931767</th>\n",
       "      <td>1</td>\n",
       "      <td>Pistachio is coming back tomorrow</td>\n",
       "    </tr>\n",
       "    <tr>\n",
       "      <th>1472660</th>\n",
       "      <td>1</td>\n",
       "      <td>vou almoÃ§ar na vovÃ³! missed her so bad</td>\n",
       "    </tr>\n",
       "    <tr>\n",
       "      <th>328804</th>\n",
       "      <td>0</td>\n",
       "      <td>Twitter is blocked in China now.  Support EFF ...</td>\n",
       "    </tr>\n",
       "    <tr>\n",
       "      <th>1032317</th>\n",
       "      <td>1</td>\n",
       "      <td>@mcclorybrin catch up already! I sent u a mess...</td>\n",
       "    </tr>\n",
       "    <tr>\n",
       "      <th>105965</th>\n",
       "      <td>0</td>\n",
       "      <td>got home from the comic book meetup and the pe...</td>\n",
       "    </tr>\n",
       "  </tbody>\n",
       "</table>\n",
       "</div>"
      ],
      "text/plain": [
       "         0                                                  1\n",
       "931767   1                 Pistachio is coming back tomorrow \n",
       "1472660  1          vou almoÃ§ar na vovÃ³! missed her so bad \n",
       "328804   0  Twitter is blocked in China now.  Support EFF ...\n",
       "1032317  1  @mcclorybrin catch up already! I sent u a mess...\n",
       "105965   0  got home from the comic book meetup and the pe..."
      ]
     },
     "execution_count": 57,
     "metadata": {},
     "output_type": "execute_result"
    }
   ],
   "source": [
    "data = raw_data[[0,5]].copy()\n",
    "data.columns = [0,1]\n",
    "data.head()"
   ]
  },
  {
   "cell_type": "code",
   "execution_count": 58,
   "metadata": {},
   "outputs": [
    {
     "data": {
      "text/html": [
       "<div>\n",
       "<style scoped>\n",
       "    .dataframe tbody tr th:only-of-type {\n",
       "        vertical-align: middle;\n",
       "    }\n",
       "\n",
       "    .dataframe tbody tr th {\n",
       "        vertical-align: top;\n",
       "    }\n",
       "\n",
       "    .dataframe thead th {\n",
       "        text-align: right;\n",
       "    }\n",
       "</style>\n",
       "<table border=\"1\" class=\"dataframe\">\n",
       "  <thead>\n",
       "    <tr style=\"text-align: right;\">\n",
       "      <th></th>\n",
       "      <th>0</th>\n",
       "      <th>1</th>\n",
       "    </tr>\n",
       "  </thead>\n",
       "  <tbody>\n",
       "    <tr>\n",
       "      <th>931767</th>\n",
       "      <td>1</td>\n",
       "      <td>pistachio is come back tomorrow</td>\n",
       "    </tr>\n",
       "    <tr>\n",
       "      <th>1472660</th>\n",
       "      <td>1</td>\n",
       "      <td>vou almoã§ar na vovã³ miss her so bad</td>\n",
       "    </tr>\n",
       "    <tr>\n",
       "      <th>328804</th>\n",
       "      <td>0</td>\n",
       "      <td>twitter is block in china now support eff and ...</td>\n",
       "    </tr>\n",
       "    <tr>\n",
       "      <th>1032317</th>\n",
       "      <td>1</td>\n",
       "      <td>catch up alreadi i sent u a messag</td>\n",
       "    </tr>\n",
       "    <tr>\n",
       "      <th>105965</th>\n",
       "      <td>0</td>\n",
       "      <td>got home from the comic book meetup and the pe...</td>\n",
       "    </tr>\n",
       "  </tbody>\n",
       "</table>\n",
       "</div>"
      ],
      "text/plain": [
       "         0                                                  1\n",
       "931767   1                    pistachio is come back tomorrow\n",
       "1472660  1              vou almoã§ar na vovã³ miss her so bad\n",
       "328804   0  twitter is block in china now support eff and ...\n",
       "1032317  1                 catch up alreadi i sent u a messag\n",
       "105965   0  got home from the comic book meetup and the pe..."
      ]
     },
     "execution_count": 58,
     "metadata": {},
     "output_type": "execute_result"
    }
   ],
   "source": [
    "data[1] = data[1].apply(clean_tweet)\n",
    "data.head()"
   ]
  },
  {
   "cell_type": "code",
   "execution_count": 59,
   "metadata": {},
   "outputs": [
    {
     "data": {
      "text/plain": [
       "TfidfVectorizer(analyzer='word', binary=False, decode_error='strict',\n",
       "        dtype=<class 'numpy.float64'>, encoding='utf-8', input='content',\n",
       "        lowercase=True, max_df=1.0, max_features=None, min_df=1,\n",
       "        ngram_range=(1, 1), norm='l2', preprocessor=None, smooth_idf=True,\n",
       "        stop_words='english', strip_accents=None, sublinear_tf=False,\n",
       "        token_pattern='(?u)\\\\b\\\\w\\\\w+\\\\b', tokenizer=None, use_idf=True,\n",
       "        vocabulary=None)"
      ]
     },
     "execution_count": 59,
     "metadata": {},
     "output_type": "execute_result"
    }
   ],
   "source": [
    "vectorizer = TfidfVectorizer(stop_words=\"english\")\n",
    "vectorizer.fit(data[1])"
   ]
  },
  {
   "cell_type": "code",
   "execution_count": 60,
   "metadata": {},
   "outputs": [
    {
     "name": "stdout",
     "output_type": "stream",
     "text": [
      "(1000, 2577)\n"
     ]
    },
    {
     "data": {
      "text/plain": [
       "'vou almoã§ar na vovã³ miss her so bad'"
      ]
     },
     "execution_count": 60,
     "metadata": {},
     "output_type": "execute_result"
    }
   ],
   "source": [
    "data_x = vectorizer.transform(data[1])\n",
    "print(data_x.shape)\n",
    "data[1].values[1]"
   ]
  },
  {
   "cell_type": "code",
   "execution_count": 61,
   "metadata": {},
   "outputs": [
    {
     "name": "stdout",
     "output_type": "stream",
     "text": [
      "<class 'scipy.sparse.csr.csr_matrix'>\n"
     ]
    }
   ],
   "source": [
    "print(type(data_x))"
   ]
  },
  {
   "cell_type": "code",
   "execution_count": 62,
   "metadata": {},
   "outputs": [],
   "source": [
    "pickle.dump(vectorizer,open(\"vectorizer.pkl\",\"wb\"))\n",
    "pickle.dump(data_x,open(\"data_x.pkl\",\"wb\"))\n",
    "pickle.dump(data[0],open(\"data_y.pkl\",\"wb\"))"
   ]
  },
  {
   "cell_type": "code",
   "execution_count": null,
   "metadata": {},
   "outputs": [],
   "source": []
  }
 ],
 "metadata": {
  "kernelspec": {
   "display_name": "Python 3",
   "language": "python",
   "name": "python3"
  },
  "language_info": {
   "codemirror_mode": {
    "name": "ipython",
    "version": 3
   },
   "file_extension": ".py",
   "mimetype": "text/x-python",
   "name": "python",
   "nbconvert_exporter": "python",
   "pygments_lexer": "ipython3",
   "version": "3.6.5"
  }
 },
 "nbformat": 4,
 "nbformat_minor": 2
}
