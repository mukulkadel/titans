{
 "cells": [
  {
   "cell_type": "code",
   "execution_count": 1,
   "metadata": {},
   "outputs": [],
   "source": [
    "import pandas as pd\n",
    "import pickle\n",
    "import re\n",
    "from sklearn.feature_extraction.text import TfidfVectorizer\n",
    "from nltk.stem.snowball import SnowballStemmer"
   ]
  },
  {
   "cell_type": "code",
   "execution_count": 2,
   "metadata": {},
   "outputs": [],
   "source": [
    "stemmer = SnowballStemmer('english')\n",
    "def clean_tweet(tweet):\n",
    "    tweet = re.sub(\"(@[A-Za-z0-9_]+)|([^A-Za-z \\t]) |(\\w+:\\/\\/\\S+)\", \" \", tweet.lower())\n",
    "    return ' '.join([stemmer.stem(word) for word in tweet.split()])"
   ]
  },
  {
   "cell_type": "code",
   "execution_count": 3,
   "metadata": {
    "scrolled": true
   },
   "outputs": [
    {
     "data": {
      "text/html": [
       "<div>\n",
       "<style scoped>\n",
       "    .dataframe tbody tr th:only-of-type {\n",
       "        vertical-align: middle;\n",
       "    }\n",
       "\n",
       "    .dataframe tbody tr th {\n",
       "        vertical-align: top;\n",
       "    }\n",
       "\n",
       "    .dataframe thead th {\n",
       "        text-align: right;\n",
       "    }\n",
       "</style>\n",
       "<table border=\"1\" class=\"dataframe\">\n",
       "  <thead>\n",
       "    <tr style=\"text-align: right;\">\n",
       "      <th></th>\n",
       "      <th>0</th>\n",
       "      <th>1</th>\n",
       "      <th>2</th>\n",
       "      <th>3</th>\n",
       "      <th>4</th>\n",
       "      <th>5</th>\n",
       "    </tr>\n",
       "  </thead>\n",
       "  <tbody>\n",
       "    <tr>\n",
       "      <th>569389</th>\n",
       "      <td>0</td>\n",
       "      <td>2207941972</td>\n",
       "      <td>Wed Jun 17 08:34:48 PDT 2009</td>\n",
       "      <td>NO_QUERY</td>\n",
       "      <td>becomingsanjay</td>\n",
       "      <td>I hope i feel better tomm ! Why did i eat 2 pl...</td>\n",
       "    </tr>\n",
       "    <tr>\n",
       "      <th>524806</th>\n",
       "      <td>0</td>\n",
       "      <td>2193619907</td>\n",
       "      <td>Tue Jun 16 08:42:16 PDT 2009</td>\n",
       "      <td>NO_QUERY</td>\n",
       "      <td>chewing_my_foot</td>\n",
       "      <td>Urrgh. Stayed up too late last night organizin...</td>\n",
       "    </tr>\n",
       "    <tr>\n",
       "      <th>182186</th>\n",
       "      <td>0</td>\n",
       "      <td>1967078132</td>\n",
       "      <td>Fri May 29 18:56:06 PDT 2009</td>\n",
       "      <td>NO_QUERY</td>\n",
       "      <td>AlyxxDione</td>\n",
       "      <td>@AlMaddin noo  cause some one unfollowed me LOL</td>\n",
       "    </tr>\n",
       "    <tr>\n",
       "      <th>709416</th>\n",
       "      <td>0</td>\n",
       "      <td>2257607695</td>\n",
       "      <td>Sat Jun 20 14:36:23 PDT 2009</td>\n",
       "      <td>NO_QUERY</td>\n",
       "      <td>luiizamuller</td>\n",
       "      <td>@Dannymcfly http://twitpic.com/7xvhl - follow me</td>\n",
       "    </tr>\n",
       "    <tr>\n",
       "      <th>186039</th>\n",
       "      <td>0</td>\n",
       "      <td>1968207653</td>\n",
       "      <td>Fri May 29 20:58:26 PDT 2009</td>\n",
       "      <td>NO_QUERY</td>\n",
       "      <td>PeaceGrl101</td>\n",
       "      <td>awwww i want 1 million followers!</td>\n",
       "    </tr>\n",
       "  </tbody>\n",
       "</table>\n",
       "</div>"
      ],
      "text/plain": [
       "        0           1                             2         3  \\\n",
       "569389  0  2207941972  Wed Jun 17 08:34:48 PDT 2009  NO_QUERY   \n",
       "524806  0  2193619907  Tue Jun 16 08:42:16 PDT 2009  NO_QUERY   \n",
       "182186  0  1967078132  Fri May 29 18:56:06 PDT 2009  NO_QUERY   \n",
       "709416  0  2257607695  Sat Jun 20 14:36:23 PDT 2009  NO_QUERY   \n",
       "186039  0  1968207653  Fri May 29 20:58:26 PDT 2009  NO_QUERY   \n",
       "\n",
       "                      4                                                  5  \n",
       "569389   becomingsanjay  I hope i feel better tomm ! Why did i eat 2 pl...  \n",
       "524806  chewing_my_foot  Urrgh. Stayed up too late last night organizin...  \n",
       "182186       AlyxxDione    @AlMaddin noo  cause some one unfollowed me LOL  \n",
       "709416     luiizamuller  @Dannymcfly http://twitpic.com/7xvhl - follow me   \n",
       "186039      PeaceGrl101                 awwww i want 1 million followers!   "
      ]
     },
     "execution_count": 3,
     "metadata": {},
     "output_type": "execute_result"
    }
   ],
   "source": [
    "raw_data = pd.read_csv(\"trainandtestdata/train.csv\",header=None)\n",
    "raw_data = raw_data.sample(n=10000)\n",
    "raw_data.head()"
   ]
  },
  {
   "cell_type": "code",
   "execution_count": 4,
   "metadata": {},
   "outputs": [
    {
     "data": {
      "text/html": [
       "<div>\n",
       "<style scoped>\n",
       "    .dataframe tbody tr th:only-of-type {\n",
       "        vertical-align: middle;\n",
       "    }\n",
       "\n",
       "    .dataframe tbody tr th {\n",
       "        vertical-align: top;\n",
       "    }\n",
       "\n",
       "    .dataframe thead th {\n",
       "        text-align: right;\n",
       "    }\n",
       "</style>\n",
       "<table border=\"1\" class=\"dataframe\">\n",
       "  <thead>\n",
       "    <tr style=\"text-align: right;\">\n",
       "      <th></th>\n",
       "      <th>0</th>\n",
       "      <th>1</th>\n",
       "    </tr>\n",
       "  </thead>\n",
       "  <tbody>\n",
       "    <tr>\n",
       "      <th>569389</th>\n",
       "      <td>0</td>\n",
       "      <td>I hope i feel better tomm ! Why did i eat 2 pl...</td>\n",
       "    </tr>\n",
       "    <tr>\n",
       "      <th>524806</th>\n",
       "      <td>0</td>\n",
       "      <td>Urrgh. Stayed up too late last night organizin...</td>\n",
       "    </tr>\n",
       "    <tr>\n",
       "      <th>182186</th>\n",
       "      <td>0</td>\n",
       "      <td>@AlMaddin noo  cause some one unfollowed me LOL</td>\n",
       "    </tr>\n",
       "    <tr>\n",
       "      <th>709416</th>\n",
       "      <td>0</td>\n",
       "      <td>@Dannymcfly http://twitpic.com/7xvhl - follow me</td>\n",
       "    </tr>\n",
       "    <tr>\n",
       "      <th>186039</th>\n",
       "      <td>0</td>\n",
       "      <td>awwww i want 1 million followers!</td>\n",
       "    </tr>\n",
       "  </tbody>\n",
       "</table>\n",
       "</div>"
      ],
      "text/plain": [
       "        0                                                  1\n",
       "569389  0  I hope i feel better tomm ! Why did i eat 2 pl...\n",
       "524806  0  Urrgh. Stayed up too late last night organizin...\n",
       "182186  0    @AlMaddin noo  cause some one unfollowed me LOL\n",
       "709416  0  @Dannymcfly http://twitpic.com/7xvhl - follow me \n",
       "186039  0                 awwww i want 1 million followers! "
      ]
     },
     "execution_count": 4,
     "metadata": {},
     "output_type": "execute_result"
    }
   ],
   "source": [
    "data = raw_data[[0,5]].copy()\n",
    "data.columns = [0,1]\n",
    "data.head()"
   ]
  },
  {
   "cell_type": "code",
   "execution_count": 5,
   "metadata": {},
   "outputs": [
    {
     "data": {
      "text/html": [
       "<div>\n",
       "<style scoped>\n",
       "    .dataframe tbody tr th:only-of-type {\n",
       "        vertical-align: middle;\n",
       "    }\n",
       "\n",
       "    .dataframe tbody tr th {\n",
       "        vertical-align: top;\n",
       "    }\n",
       "\n",
       "    .dataframe thead th {\n",
       "        text-align: right;\n",
       "    }\n",
       "</style>\n",
       "<table border=\"1\" class=\"dataframe\">\n",
       "  <thead>\n",
       "    <tr style=\"text-align: right;\">\n",
       "      <th></th>\n",
       "      <th>0</th>\n",
       "      <th>1</th>\n",
       "    </tr>\n",
       "  </thead>\n",
       "  <tbody>\n",
       "    <tr>\n",
       "      <th>569389</th>\n",
       "      <td>0</td>\n",
       "      <td>i hope i feel better tomm whi did i eat plate ...</td>\n",
       "    </tr>\n",
       "    <tr>\n",
       "      <th>524806</th>\n",
       "      <td>0</td>\n",
       "      <td>urrgh stay up too late last night organ tasti ...</td>\n",
       "    </tr>\n",
       "    <tr>\n",
       "      <th>182186</th>\n",
       "      <td>0</td>\n",
       "      <td>noo caus some one unfollow me lol</td>\n",
       "    </tr>\n",
       "    <tr>\n",
       "      <th>709416</th>\n",
       "      <td>0</td>\n",
       "      <td>follow me</td>\n",
       "    </tr>\n",
       "    <tr>\n",
       "      <th>186039</th>\n",
       "      <td>0</td>\n",
       "      <td>awwww i want million follow</td>\n",
       "    </tr>\n",
       "  </tbody>\n",
       "</table>\n",
       "</div>"
      ],
      "text/plain": [
       "        0                                                  1\n",
       "569389  0  i hope i feel better tomm whi did i eat plate ...\n",
       "524806  0  urrgh stay up too late last night organ tasti ...\n",
       "182186  0                  noo caus some one unfollow me lol\n",
       "709416  0                                          follow me\n",
       "186039  0                        awwww i want million follow"
      ]
     },
     "execution_count": 5,
     "metadata": {},
     "output_type": "execute_result"
    }
   ],
   "source": [
    "data[1] = data[1].apply(clean_tweet)\n",
    "data.head()"
   ]
  },
  {
   "cell_type": "code",
   "execution_count": 6,
   "metadata": {},
   "outputs": [
    {
     "data": {
      "text/plain": [
       "TfidfVectorizer(analyzer='word', binary=False, decode_error='strict',\n",
       "        dtype=<class 'numpy.float64'>, encoding='utf-8', input='content',\n",
       "        lowercase=True, max_df=1.0, max_features=None, min_df=1,\n",
       "        ngram_range=(1, 1), norm='l2', preprocessor=None, smooth_idf=True,\n",
       "        stop_words='english', strip_accents=None, sublinear_tf=False,\n",
       "        token_pattern='(?u)\\\\b\\\\w\\\\w+\\\\b', tokenizer=None, use_idf=True,\n",
       "        vocabulary=None)"
      ]
     },
     "execution_count": 6,
     "metadata": {},
     "output_type": "execute_result"
    }
   ],
   "source": [
    "vectorizer = TfidfVectorizer(stop_words=\"english\")\n",
    "vectorizer.fit(data[1])"
   ]
  },
  {
   "cell_type": "code",
   "execution_count": 7,
   "metadata": {},
   "outputs": [
    {
     "name": "stdout",
     "output_type": "stream",
     "text": [
      "(10000, 11509)\n"
     ]
    },
    {
     "data": {
      "text/plain": [
       "\"urrgh stay up too late last night organ tasti piec of hay i plan to eat now i'm too tire to eat them\""
      ]
     },
     "execution_count": 7,
     "metadata": {},
     "output_type": "execute_result"
    }
   ],
   "source": [
    "data_x = vectorizer.transform(data[1])\n",
    "print(data_x.shape)\n",
    "data[1].values[1]"
   ]
  },
  {
   "cell_type": "code",
   "execution_count": 8,
   "metadata": {},
   "outputs": [
    {
     "name": "stdout",
     "output_type": "stream",
     "text": [
      "<class 'scipy.sparse.csr.csr_matrix'>\n"
     ]
    }
   ],
   "source": [
    "print(type(data_x))"
   ]
  },
  {
   "cell_type": "code",
   "execution_count": 9,
   "metadata": {},
   "outputs": [],
   "source": [
    "pickle.dump(vectorizer,open(\"vectorizer.pkl\",\"wb\"))\n",
    "pickle.dump(data_x,open(\"data_x.pkl\",\"wb\"))\n",
    "pickle.dump(data[0],open(\"data_y.pkl\",\"wb\"))"
   ]
  },
  {
   "cell_type": "code",
   "execution_count": null,
   "metadata": {},
   "outputs": [],
   "source": []
  }
 ],
 "metadata": {
  "kernelspec": {
   "display_name": "Python 3",
   "language": "python",
   "name": "python3"
  },
  "language_info": {
   "codemirror_mode": {
    "name": "ipython",
    "version": 3
   },
   "file_extension": ".py",
   "mimetype": "text/x-python",
   "name": "python",
   "nbconvert_exporter": "python",
   "pygments_lexer": "ipython3",
   "version": "3.6.5"
  }
 },
 "nbformat": 4,
 "nbformat_minor": 2
}
