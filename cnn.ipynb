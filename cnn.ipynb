{
 "cells": [
  {
   "cell_type": "code",
   "execution_count": 1,
   "metadata": {},
   "outputs": [
    {
     "name": "stderr",
     "output_type": "stream",
     "text": [
      "Using TensorFlow backend.\n"
     ]
    }
   ],
   "source": [
    "import pandas as pd\n",
    "import pickle\n",
    "from sklearn.model_selection import train_test_split\n",
    "import keras"
   ]
  },
  {
   "cell_type": "code",
   "execution_count": 2,
   "metadata": {},
   "outputs": [
    {
     "name": "stdout",
     "output_type": "stream",
     "text": [
      "(10000, 11509, 1) (10000, 2)\n"
     ]
    }
   ],
   "source": [
    "data_x = pickle.load(open(\"data_x.pkl\",\"rb\")).toarray()\n",
    "data_x = data_x.reshape(data_x.shape[0],data_x.shape[1],1)\n",
    "data_y = pickle.load(open(\"data_y.pkl\",\"rb\")).values\n",
    "data_y = keras.utils.to_categorical(data_y)\n",
    "print(data_x.shape,data_y.shape)"
   ]
  },
  {
   "cell_type": "code",
   "execution_count": 3,
   "metadata": {},
   "outputs": [
    {
     "name": "stderr",
     "output_type": "stream",
     "text": [
      "c:\\users\\kadel\\appdata\\local\\programs\\python\\python36\\lib\\site-packages\\sklearn\\model_selection\\_split.py:2069: FutureWarning: From version 0.21, test_size will always complement train_size unless both are specified.\n",
      "  FutureWarning)\n"
     ]
    }
   ],
   "source": [
    "train_x,test_x,train_y,test_y = train_test_split(data_x,data_y,train_size=0.8)"
   ]
  },
  {
   "cell_type": "code",
   "execution_count": 4,
   "metadata": {},
   "outputs": [],
   "source": [
    "model = keras.Sequential()\n",
    "model.add(keras.layers.Conv1D(1,kernel_size=5,activation=\"relu\"))\n",
    "model.add(keras.layers.MaxPooling1D(pool_size=5))\n",
    "model.add(keras.layers.Dropout(0.2))\n",
    "model.add(keras.layers.Flatten())\n",
    "model.add(keras.layers.Dense(300,activation=\"relu\"))\n",
    "model.add(keras.layers.Dropout(0.2))\n",
    "model.add(keras.layers.Dense(20,activation=\"relu\"))\n",
    "model.add(keras.layers.Dense(2,activation=\"softmax\"))\n",
    "\n",
    "model.compile(optimizer=\"adam\",loss=\"mse\",metrics=['accuracy'])"
   ]
  },
  {
   "cell_type": "code",
   "execution_count": 5,
   "metadata": {
    "scrolled": true
   },
   "outputs": [
    {
     "name": "stdout",
     "output_type": "stream",
     "text": [
      "Train on 8000 samples, validate on 2000 samples\n",
      "Epoch 1/100\n",
      "8000/8000 [==============================] - 18s 2ms/step - loss: 0.2271 - acc: 0.6104 - val_loss: 0.1994 - val_acc: 0.6975\n",
      "Epoch 2/100\n",
      "8000/8000 [==============================] - 18s 2ms/step - loss: 0.1797 - acc: 0.7291 - val_loss: 0.1988 - val_acc: 0.6930\n",
      "Epoch 3/100\n",
      "8000/8000 [==============================] - 25s 3ms/step - loss: 0.1625 - acc: 0.7669 - val_loss: 0.2018 - val_acc: 0.6870\n",
      "Epoch 4/100\n",
      "8000/8000 [==============================] - 28s 3ms/step - loss: 0.1420 - acc: 0.7975 - val_loss: 0.2063 - val_acc: 0.6775\n",
      "Epoch 5/100\n",
      "8000/8000 [==============================] - 27s 3ms/step - loss: 0.1158 - acc: 0.8429 - val_loss: 0.2159 - val_acc: 0.6765\n",
      "Epoch 6/100\n",
      "8000/8000 [==============================] - 26s 3ms/step - loss: 0.0890 - acc: 0.8845 - val_loss: 0.2234 - val_acc: 0.6875\n",
      "Epoch 7/100\n",
      "8000/8000 [==============================] - 27s 3ms/step - loss: 0.0639 - acc: 0.9183 - val_loss: 0.2257 - val_acc: 0.6715\n",
      "Epoch 8/100\n",
      "8000/8000 [==============================] - 26s 3ms/step - loss: 0.0493 - acc: 0.9379 - val_loss: 0.2347 - val_acc: 0.6735\n",
      "Epoch 9/100\n",
      "8000/8000 [==============================] - 26s 3ms/step - loss: 0.0417 - acc: 0.9465 - val_loss: 0.2399 - val_acc: 0.680517 - acc: 0.94\n",
      "Epoch 10/100\n",
      "8000/8000 [==============================] - 27s 3ms/step - loss: 0.0385 - acc: 0.9496 - val_loss: 0.2443 - val_acc: 0.6720\n",
      "Epoch 11/100\n",
      "8000/8000 [==============================] - 27s 3ms/step - loss: 0.0347 - acc: 0.9549 - val_loss: 0.2452 - val_acc: 0.6830\n",
      "Epoch 12/100\n",
      "8000/8000 [==============================] - 29s 4ms/step - loss: 0.0322 - acc: 0.9572 - val_loss: 0.2518 - val_acc: 0.6760\n",
      "Epoch 13/100\n",
      "8000/8000 [==============================] - 27s 3ms/step - loss: 0.0294 - acc: 0.9604 - val_loss: 0.2563 - val_acc: 0.6695\n",
      "Epoch 14/100\n",
      "8000/8000 [==============================] - 26s 3ms/step - loss: 0.0274 - acc: 0.9636 - val_loss: 0.2549 - val_acc: 0.6740\n",
      "Epoch 15/100\n",
      "8000/8000 [==============================] - 26s 3ms/step - loss: 0.0271 - acc: 0.9617 - val_loss: 0.2559 - val_acc: 0.6785\n",
      "Epoch 16/100\n",
      "8000/8000 [==============================] - 27s 3ms/step - loss: 0.0243 - acc: 0.9652 - val_loss: 0.2557 - val_acc: 0.6710loss: 0.0233 - acc: 0. - ETA: 2s -\n",
      "Epoch 17/100\n",
      "8000/8000 [==============================] - 26s 3ms/step - loss: 0.0231 - acc: 0.9702 - val_loss: 0.2544 - val_acc: 0.6745\n",
      "Epoch 18/100\n",
      "8000/8000 [==============================] - 27s 3ms/step - loss: 0.0245 - acc: 0.9656 - val_loss: 0.2528 - val_acc: 0.6785\n",
      "Epoch 19/100\n",
      "8000/8000 [==============================] - 26s 3ms/step - loss: 0.0217 - acc: 0.9705 - val_loss: 0.2509 - val_acc: 0.6840\n",
      "Epoch 20/100\n",
      "8000/8000 [==============================] - 26s 3ms/step - loss: 0.0224 - acc: 0.9702 - val_loss: 0.2544 - val_acc: 0.6830\n",
      "Epoch 21/100\n",
      "8000/8000 [==============================] - 26s 3ms/step - loss: 0.0229 - acc: 0.9679 - val_loss: 0.2611 - val_acc: 0.6785\n",
      "Epoch 22/100\n",
      "8000/8000 [==============================] - 26s 3ms/step - loss: 0.0205 - acc: 0.9716 - val_loss: 0.2600 - val_acc: 0.6730\n",
      "Epoch 23/100\n",
      "8000/8000 [==============================] - 27s 3ms/step - loss: 0.0219 - acc: 0.9704 - val_loss: 0.2607 - val_acc: 0.6825\n",
      "Epoch 24/100\n",
      "8000/8000 [==============================] - 26s 3ms/step - loss: 0.0203 - acc: 0.9726 - val_loss: 0.2641 - val_acc: 0.6725\n",
      "Epoch 25/100\n",
      "8000/8000 [==============================] - 26s 3ms/step - loss: 0.0183 - acc: 0.9745 - val_loss: 0.2659 - val_acc: 0.6675\n",
      "Epoch 26/100\n",
      "8000/8000 [==============================] - 26s 3ms/step - loss: 0.0178 - acc: 0.9761 - val_loss: 0.2700 - val_acc: 0.6625\n",
      "Epoch 27/100\n",
      "8000/8000 [==============================] - 27s 3ms/step - loss: 0.0173 - acc: 0.9774 - val_loss: 0.2660 - val_acc: 0.6760\n",
      "Epoch 28/100\n",
      "8000/8000 [==============================] - 26s 3ms/step - loss: 0.0173 - acc: 0.9774 - val_loss: 0.2652 - val_acc: 0.6775\n",
      "Epoch 29/100\n",
      "8000/8000 [==============================] - 27s 3ms/step - loss: 0.0173 - acc: 0.9738 - val_loss: 0.2674 - val_acc: 0.6730c: 0.97\n",
      "Epoch 30/100\n",
      "8000/8000 [==============================] - 27s 3ms/step - loss: 0.0188 - acc: 0.9735 - val_loss: 0.2699 - val_acc: 0.6665\n",
      "Epoch 31/100\n",
      "8000/8000 [==============================] - 26s 3ms/step - loss: 0.0192 - acc: 0.9749 - val_loss: 0.2683 - val_acc: 0.6710\n",
      "Epoch 32/100\n",
      "8000/8000 [==============================] - 26s 3ms/step - loss: 0.0185 - acc: 0.9749 - val_loss: 0.2708 - val_acc: 0.6685\n",
      "Epoch 33/100\n",
      "8000/8000 [==============================] - 26s 3ms/step - loss: 0.0170 - acc: 0.9759 - val_loss: 0.2715 - val_acc: 0.6695\n",
      "Epoch 34/100\n",
      "8000/8000 [==============================] - 27s 3ms/step - loss: 0.0174 - acc: 0.9758 - val_loss: 0.2747 - val_acc: 0.6635\n",
      "Epoch 35/100\n",
      "8000/8000 [==============================] - 27s 3ms/step - loss: 0.0159 - acc: 0.9791 - val_loss: 0.2714 - val_acc: 0.6655\n",
      "Epoch 36/100\n",
      "8000/8000 [==============================] - 26s 3ms/step - loss: 0.0166 - acc: 0.9777 - val_loss: 0.2653 - val_acc: 0.6755\n",
      "Epoch 37/100\n",
      "8000/8000 [==============================] - 27s 3ms/step - loss: 0.0155 - acc: 0.9789 - val_loss: 0.2692 - val_acc: 0.6810\n",
      "Epoch 38/100\n",
      "8000/8000 [==============================] - 26s 3ms/step - loss: 0.0161 - acc: 0.9781 - val_loss: 0.2651 - val_acc: 0.6825\n",
      "Epoch 39/100\n",
      "8000/8000 [==============================] - 26s 3ms/step - loss: 0.0175 - acc: 0.9760 - val_loss: 0.2722 - val_acc: 0.6655\n",
      "Epoch 40/100\n",
      "8000/8000 [==============================] - 27s 3ms/step - loss: 0.0159 - acc: 0.9785 - val_loss: 0.2785 - val_acc: 0.6650\n",
      "Epoch 41/100\n",
      "8000/8000 [==============================] - 26s 3ms/step - loss: 0.0170 - acc: 0.9769 - val_loss: 0.2747 - val_acc: 0.6665\n",
      "Epoch 42/100\n",
      "8000/8000 [==============================] - 27s 3ms/step - loss: 0.0158 - acc: 0.9798 - val_loss: 0.2715 - val_acc: 0.6705\n",
      "Epoch 43/100\n",
      "8000/8000 [==============================] - 27s 3ms/step - loss: 0.0170 - acc: 0.9779 - val_loss: 0.2689 - val_acc: 0.6755\n",
      "Epoch 44/100\n",
      "8000/8000 [==============================] - 26s 3ms/step - loss: 0.0149 - acc: 0.9798 - val_loss: 0.2770 - val_acc: 0.6640\n",
      "Epoch 45/100\n",
      "8000/8000 [==============================] - 27s 3ms/step - loss: 0.0148 - acc: 0.9795 - val_loss: 0.2877 - val_acc: 0.6520\n",
      "Epoch 46/100\n",
      "8000/8000 [==============================] - 27s 3ms/step - loss: 0.0142 - acc: 0.9796 - val_loss: 0.2746 - val_acc: 0.6650\n",
      "Epoch 47/100\n",
      "8000/8000 [==============================] - 27s 3ms/step - loss: 0.0159 - acc: 0.9775 - val_loss: 0.2802 - val_acc: 0.6590\n",
      "Epoch 48/100\n",
      "8000/8000 [==============================] - 27s 3ms/step - loss: 0.0159 - acc: 0.9781 - val_loss: 0.2855 - val_acc: 0.6555\n",
      "Epoch 49/100\n",
      "8000/8000 [==============================] - 27s 3ms/step - loss: 0.0135 - acc: 0.9814 - val_loss: 0.2910 - val_acc: 0.6470\n",
      "Epoch 50/100\n",
      "8000/8000 [==============================] - 27s 3ms/step - loss: 0.0161 - acc: 0.9786 - val_loss: 0.2801 - val_acc: 0.6635\n",
      "Epoch 51/100\n",
      "8000/8000 [==============================] - 28s 4ms/step - loss: 0.0141 - acc: 0.9810 - val_loss: 0.2773 - val_acc: 0.6745\n",
      "Epoch 52/100\n",
      "8000/8000 [==============================] - 28s 4ms/step - loss: 0.0133 - acc: 0.9820 - val_loss: 0.2799 - val_acc: 0.6645\n",
      "Epoch 53/100\n",
      "8000/8000 [==============================] - 29s 4ms/step - loss: 0.0154 - acc: 0.9796 - val_loss: 0.2787 - val_acc: 0.6650\n",
      "Epoch 54/100\n",
      "8000/8000 [==============================] - 29s 4ms/step - loss: 0.0120 - acc: 0.9831 - val_loss: 0.2859 - val_acc: 0.6665\n",
      "Epoch 55/100\n",
      "8000/8000 [==============================] - 27s 3ms/step - loss: 0.0146 - acc: 0.9808 - val_loss: 0.2833 - val_acc: 0.6650\n",
      "Epoch 56/100\n",
      "8000/8000 [==============================] - 27s 3ms/step - loss: 0.0144 - acc: 0.9808 - val_loss: 0.2815 - val_acc: 0.6730\n",
      "Epoch 57/100\n",
      "8000/8000 [==============================] - 27s 3ms/step - loss: 0.0143 - acc: 0.9798 - val_loss: 0.2842 - val_acc: 0.6650\n",
      "Epoch 58/100\n",
      "8000/8000 [==============================] - 27s 3ms/step - loss: 0.0141 - acc: 0.9820 - val_loss: 0.2835 - val_acc: 0.6655\n",
      "Epoch 59/100\n",
      "8000/8000 [==============================] - 27s 3ms/step - loss: 0.0145 - acc: 0.9799 - val_loss: 0.2822 - val_acc: 0.6650\n",
      "Epoch 60/100\n"
     ]
    },
    {
     "name": "stdout",
     "output_type": "stream",
     "text": [
      "8000/8000 [==============================] - 26s 3ms/step - loss: 0.0148 - acc: 0.9791 - val_loss: 0.2804 - val_acc: 0.6625\n",
      "Epoch 61/100\n",
      "8000/8000 [==============================] - 25s 3ms/step - loss: 0.0131 - acc: 0.9820 - val_loss: 0.2793 - val_acc: 0.6630\n",
      "Epoch 62/100\n",
      "8000/8000 [==============================] - 25s 3ms/step - loss: 0.0149 - acc: 0.9796 - val_loss: 0.2792 - val_acc: 0.6670\n",
      "Epoch 63/100\n",
      "8000/8000 [==============================] - 25s 3ms/step - loss: 0.0135 - acc: 0.9808 - val_loss: 0.2808 - val_acc: 0.6675\n",
      "Epoch 64/100\n",
      "8000/8000 [==============================] - 25s 3ms/step - loss: 0.0141 - acc: 0.9809 - val_loss: 0.2772 - val_acc: 0.6680\n",
      "Epoch 65/100\n",
      "8000/8000 [==============================] - 25s 3ms/step - loss: 0.0151 - acc: 0.9789 - val_loss: 0.2753 - val_acc: 0.6640\n",
      "Epoch 66/100\n",
      "8000/8000 [==============================] - 25s 3ms/step - loss: 0.0143 - acc: 0.9806 - val_loss: 0.2740 - val_acc: 0.6670\n",
      "Epoch 67/100\n",
      "8000/8000 [==============================] - 25s 3ms/step - loss: 0.0129 - acc: 0.9828 - val_loss: 0.2769 - val_acc: 0.6635\n",
      "Epoch 68/100\n",
      "8000/8000 [==============================] - 26s 3ms/step - loss: 0.0133 - acc: 0.9815 - val_loss: 0.2770 - val_acc: 0.6695\n",
      "Epoch 69/100\n",
      "8000/8000 [==============================] - 26s 3ms/step - loss: 0.0127 - acc: 0.9825 - val_loss: 0.2765 - val_acc: 0.6660\n",
      "Epoch 70/100\n",
      "8000/8000 [==============================] - 25s 3ms/step - loss: 0.0124 - acc: 0.9825 - val_loss: 0.2770 - val_acc: 0.6720\n",
      "Epoch 71/100\n",
      "8000/8000 [==============================] - 25s 3ms/step - loss: 0.0133 - acc: 0.9815 - val_loss: 0.2827 - val_acc: 0.6635\n",
      "Epoch 72/100\n",
      "8000/8000 [==============================] - 26s 3ms/step - loss: 0.0143 - acc: 0.9793 - val_loss: 0.2796 - val_acc: 0.6685\n",
      "Epoch 73/100\n",
      "8000/8000 [==============================] - 25s 3ms/step - loss: 0.0136 - acc: 0.9809 - val_loss: 0.2797 - val_acc: 0.6740\n",
      "Epoch 74/100\n",
      "8000/8000 [==============================] - 26s 3ms/step - loss: 0.0131 - acc: 0.9816 - val_loss: 0.2854 - val_acc: 0.6580\n",
      "Epoch 75/100\n",
      "8000/8000 [==============================] - 25s 3ms/step - loss: 0.0126 - acc: 0.9826 - val_loss: 0.2852 - val_acc: 0.6625acc: 0.982 - ETA: 1s - loss: 0\n",
      "Epoch 76/100\n",
      "8000/8000 [==============================] - 18s 2ms/step - loss: 0.0120 - acc: 0.9841 - val_loss: 0.2869 - val_acc: 0.6655\n",
      "Epoch 77/100\n",
      "8000/8000 [==============================] - 15s 2ms/step - loss: 0.0119 - acc: 0.9837 - val_loss: 0.2875 - val_acc: 0.6635\n",
      "Epoch 78/100\n",
      "8000/8000 [==============================] - 16s 2ms/step - loss: 0.0122 - acc: 0.9839 - val_loss: 0.2858 - val_acc: 0.6620\n",
      "Epoch 79/100\n",
      "8000/8000 [==============================] - 15s 2ms/step - loss: 0.0127 - acc: 0.9826 - val_loss: 0.2833 - val_acc: 0.6595\n",
      "Epoch 80/100\n",
      "8000/8000 [==============================] - 15s 2ms/step - loss: 0.0122 - acc: 0.9818 - val_loss: 0.2808 - val_acc: 0.6725\n",
      "Epoch 81/100\n",
      "8000/8000 [==============================] - 15s 2ms/step - loss: 0.0120 - acc: 0.9831 - val_loss: 0.2801 - val_acc: 0.6700\n",
      "Epoch 82/100\n",
      "8000/8000 [==============================] - 15s 2ms/step - loss: 0.0118 - acc: 0.9830 - val_loss: 0.2844 - val_acc: 0.6660\n",
      "Epoch 83/100\n",
      "8000/8000 [==============================] - 16s 2ms/step - loss: 0.0117 - acc: 0.9837 - val_loss: 0.2860 - val_acc: 0.6600\n",
      "Epoch 84/100\n",
      "8000/8000 [==============================] - 15s 2ms/step - loss: 0.0121 - acc: 0.9819 - val_loss: 0.2871 - val_acc: 0.6590\n",
      "Epoch 85/100\n",
      "8000/8000 [==============================] - 15s 2ms/step - loss: 0.0121 - acc: 0.9840 - val_loss: 0.2856 - val_acc: 0.6645\n",
      "Epoch 86/100\n",
      "8000/8000 [==============================] - 15s 2ms/step - loss: 0.0123 - acc: 0.9828 - val_loss: 0.2856 - val_acc: 0.6600\n",
      "Epoch 87/100\n",
      "8000/8000 [==============================] - 16s 2ms/step - loss: 0.0131 - acc: 0.9816 - val_loss: 0.2816 - val_acc: 0.6680\n",
      "Epoch 88/100\n",
      "8000/8000 [==============================] - 16s 2ms/step - loss: 0.0117 - acc: 0.9825 - val_loss: 0.2811 - val_acc: 0.6705\n",
      "Epoch 89/100\n",
      "8000/8000 [==============================] - 16s 2ms/step - loss: 0.0111 - acc: 0.9842 - val_loss: 0.2826 - val_acc: 0.6625\n",
      "Epoch 90/100\n",
      "8000/8000 [==============================] - 16s 2ms/step - loss: 0.0121 - acc: 0.9826 - val_loss: 0.2874 - val_acc: 0.6620\n",
      "Epoch 91/100\n",
      "8000/8000 [==============================] - 16s 2ms/step - loss: 0.0122 - acc: 0.9826 - val_loss: 0.2864 - val_acc: 0.6680\n",
      "Epoch 92/100\n",
      "8000/8000 [==============================] - 16s 2ms/step - loss: 0.0117 - acc: 0.9837 - val_loss: 0.2810 - val_acc: 0.6695\n",
      "Epoch 93/100\n",
      "8000/8000 [==============================] - 16s 2ms/step - loss: 0.0119 - acc: 0.9826 - val_loss: 0.2836 - val_acc: 0.6735\n",
      "Epoch 94/100\n",
      "8000/8000 [==============================] - 16s 2ms/step - loss: 0.0099 - acc: 0.9860 - val_loss: 0.2854 - val_acc: 0.6695\n",
      "Epoch 95/100\n",
      "8000/8000 [==============================] - 15s 2ms/step - loss: 0.0128 - acc: 0.9824 - val_loss: 0.2846 - val_acc: 0.6685\n",
      "Epoch 96/100\n",
      "8000/8000 [==============================] - 16s 2ms/step - loss: 0.0111 - acc: 0.9844 - val_loss: 0.2857 - val_acc: 0.6675\n",
      "Epoch 97/100\n",
      "8000/8000 [==============================] - 16s 2ms/step - loss: 0.0108 - acc: 0.9841 - val_loss: 0.2840 - val_acc: 0.6690\n",
      "Epoch 98/100\n",
      "8000/8000 [==============================] - 16s 2ms/step - loss: 0.0117 - acc: 0.9839 - val_loss: 0.2873 - val_acc: 0.6660\n",
      "Epoch 99/100\n",
      "8000/8000 [==============================] - 16s 2ms/step - loss: 0.0129 - acc: 0.9815 - val_loss: 0.2896 - val_acc: 0.6530\n",
      "Epoch 100/100\n",
      "8000/8000 [==============================] - 16s 2ms/step - loss: 0.0118 - acc: 0.9831 - val_loss: 0.2895 - val_acc: 0.6565\n",
      "_________________________________________________________________\n",
      "Layer (type)                 Output Shape              Param #   \n",
      "=================================================================\n",
      "conv1d_1 (Conv1D)            (None, 11505, 1)          6         \n",
      "_________________________________________________________________\n",
      "max_pooling1d_1 (MaxPooling1 (None, 2301, 1)           0         \n",
      "_________________________________________________________________\n",
      "dropout_1 (Dropout)          (None, 2301, 1)           0         \n",
      "_________________________________________________________________\n",
      "flatten_1 (Flatten)          (None, 2301)              0         \n",
      "_________________________________________________________________\n",
      "dense_1 (Dense)              (None, 300)               690600    \n",
      "_________________________________________________________________\n",
      "dropout_2 (Dropout)          (None, 300)               0         \n",
      "_________________________________________________________________\n",
      "dense_2 (Dense)              (None, 20)                6020      \n",
      "_________________________________________________________________\n",
      "dense_3 (Dense)              (None, 2)                 42        \n",
      "=================================================================\n",
      "Total params: 696,668\n",
      "Trainable params: 696,668\n",
      "Non-trainable params: 0\n",
      "_________________________________________________________________\n",
      "None\n"
     ]
    }
   ],
   "source": [
    "model.fit(train_x,train_y,epochs=100,validation_data=(test_x,test_y))\n",
    "print(model.summary())"
   ]
  },
  {
   "cell_type": "code",
   "execution_count": 6,
   "metadata": {},
   "outputs": [
    {
     "name": "stdout",
     "output_type": "stream",
     "text": [
      "2000/2000 [==============================] - 2s 840us/step\n",
      "[0.28949759578704837, 0.6565]\n"
     ]
    }
   ],
   "source": [
    "print(model.evaluate(test_x,test_y))"
   ]
  },
  {
   "cell_type": "code",
   "execution_count": 7,
   "metadata": {},
   "outputs": [],
   "source": [
    "model.save(\"cnn.h5\")"
   ]
  },
  {
   "cell_type": "code",
   "execution_count": 8,
   "metadata": {},
   "outputs": [
    {
     "data": {
      "text/plain": [
       "'\\nat 1000 records, . acc 0.9875\\nat 10000 records, layers(1000,500,50,1). acc 0.496\\n'"
      ]
     },
     "execution_count": 8,
     "metadata": {},
     "output_type": "execute_result"
    }
   ],
   "source": [
    "\"\"\"\n",
    "at 2000 records, . acc 0.9875\n",
    "at 10000 records, layers(1000,500,50,1). acc 0.496\n",
    "at 10000 records, layers(300,20,2). acc 0.983 val 0.6565\n",
    "\"\"\""
   ]
  }
 ],
 "metadata": {
  "kernelspec": {
   "display_name": "Python 3",
   "language": "python",
   "name": "python3"
  },
  "language_info": {
   "codemirror_mode": {
    "name": "ipython",
    "version": 3
   },
   "file_extension": ".py",
   "mimetype": "text/x-python",
   "name": "python",
   "nbconvert_exporter": "python",
   "pygments_lexer": "ipython3",
   "version": "3.6.5"
  }
 },
 "nbformat": 4,
 "nbformat_minor": 2
}
