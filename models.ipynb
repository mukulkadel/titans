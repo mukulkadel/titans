{
 "cells": [
  {
   "cell_type": "code",
   "execution_count": 1,
   "metadata": {},
   "outputs": [],
   "source": [
    "import pandas as pd\n",
    "import pickle\n",
    "from sklearn.model_selection import train_test_split\n",
    "from sklearn.metrics import accuracy_score"
   ]
  },
  {
   "cell_type": "code",
   "execution_count": 2,
   "metadata": {},
   "outputs": [],
   "source": [
    "data_x = pickle.load(open(\"data_x.pkl\",\"rb\"))\n",
    "data_y = pickle.load(open(\"data_y.pkl\",\"rb\"))"
   ]
  },
  {
   "cell_type": "code",
   "execution_count": 3,
   "metadata": {},
   "outputs": [
    {
     "name": "stderr",
     "output_type": "stream",
     "text": [
      "c:\\users\\kadel\\appdata\\local\\programs\\python\\python36\\lib\\site-packages\\sklearn\\model_selection\\_split.py:2069: FutureWarning: From version 0.21, test_size will always complement train_size unless both are specified.\n",
      "  FutureWarning)\n"
     ]
    }
   ],
   "source": [
    "train_x,test_x,train_y,test_y = train_test_split(data_x,data_y,train_size=0.8)"
   ]
  },
  {
   "cell_type": "code",
   "execution_count": 4,
   "metadata": {},
   "outputs": [],
   "source": [
    "clf = {}"
   ]
  },
  {
   "cell_type": "code",
   "execution_count": 5,
   "metadata": {},
   "outputs": [
    {
     "name": "stdout",
     "output_type": "stream",
     "text": [
      "Naive Bayes accuracy: 0.720000\n"
     ]
    }
   ],
   "source": [
    "#Naive Bayes model\n",
    "from sklearn.naive_bayes import MultinomialNB\n",
    "clf[\"Naive Bayes\"] = MultinomialNB()\n",
    "clf[\"Naive Bayes\"].fit(train_x,train_y)\n",
    "print(\"Naive Bayes accuracy: %f\"%accuracy_score(test_y,clf[\"Naive Bayes\"].predict(test_x)))"
   ]
  },
  {
   "cell_type": "code",
   "execution_count": 6,
   "metadata": {},
   "outputs": [
    {
     "name": "stdout",
     "output_type": "stream",
     "text": [
      "Logistic accuracy: 0.726000\n"
     ]
    },
    {
     "name": "stderr",
     "output_type": "stream",
     "text": [
      "c:\\users\\kadel\\appdata\\local\\programs\\python\\python36\\lib\\site-packages\\sklearn\\linear_model\\logistic.py:432: FutureWarning: Default solver will be changed to 'lbfgs' in 0.22. Specify a solver to silence this warning.\n",
      "  FutureWarning)\n"
     ]
    }
   ],
   "source": [
    "#Logistic Regression model\n",
    "from sklearn.linear_model import LogisticRegression\n",
    "clf[\"Logistic\"] = LogisticRegression()\n",
    "clf[\"Logistic\"].fit(train_x,train_y)\n",
    "print(\"Logistic accuracy: %f\"%accuracy_score(test_y,clf[\"Logistic\"].predict(test_x)))"
   ]
  },
  {
   "cell_type": "code",
   "execution_count": 7,
   "metadata": {},
   "outputs": [
    {
     "name": "stderr",
     "output_type": "stream",
     "text": [
      "c:\\users\\kadel\\appdata\\local\\programs\\python\\python36\\lib\\site-packages\\sklearn\\discriminant_analysis.py:388: UserWarning: Variables are collinear.\n",
      "  warnings.warn(\"Variables are collinear.\")\n"
     ]
    },
    {
     "name": "stdout",
     "output_type": "stream",
     "text": [
      "LDA accuracy: 0.627000\n"
     ]
    }
   ],
   "source": [
    "#LDA model\n",
    "from sklearn.discriminant_analysis import LinearDiscriminantAnalysis\n",
    "clf[\"LDA\"] = LinearDiscriminantAnalysis()\n",
    "clf[\"LDA\"].fit(train_x.toarray(),train_y)\n",
    "print(\"LDA accuracy: %f\"%accuracy_score(test_y,clf[\"LDA\"].predict(test_x)))"
   ]
  },
  {
   "cell_type": "code",
   "execution_count": 8,
   "metadata": {},
   "outputs": [
    {
     "name": "stdout",
     "output_type": "stream",
     "text": [
      "Descision Tree accuracy: 0.652500\n"
     ]
    }
   ],
   "source": [
    "#Descision Tree model\n",
    "from sklearn.tree import DecisionTreeClassifier\n",
    "clf[\"Descision Tree\"] = DecisionTreeClassifier()\n",
    "clf[\"Descision Tree\"].fit(train_x,train_y)\n",
    "print(\"Descision Tree accuracy: %f\"%accuracy_score(test_y,clf[\"Descision Tree\"].predict(test_x)))"
   ]
  },
  {
   "cell_type": "code",
   "execution_count": 9,
   "metadata": {},
   "outputs": [
    {
     "name": "stderr",
     "output_type": "stream",
     "text": [
      "c:\\users\\kadel\\appdata\\local\\programs\\python\\python36\\lib\\site-packages\\sklearn\\svm\\base.py:196: FutureWarning: The default value of gamma will change from 'auto' to 'scale' in version 0.22 to account better for unscaled features. Set gamma explicitly to 'auto' or 'scale' to avoid this warning.\n",
      "  \"avoid this warning.\", FutureWarning)\n"
     ]
    },
    {
     "name": "stdout",
     "output_type": "stream",
     "text": [
      "SVM accuracy: 0.501500\n"
     ]
    }
   ],
   "source": [
    "#SVM model\n",
    "from sklearn.svm import SVC\n",
    "clf[\"SVM\"] = SVC()\n",
    "clf[\"SVM\"].fit(train_x,train_y)\n",
    "print(\"SVM accuracy: %f\"%accuracy_score(test_y,clf[\"SVM\"].predict(test_x)))"
   ]
  },
  {
   "cell_type": "code",
   "execution_count": 10,
   "metadata": {},
   "outputs": [
    {
     "name": "stderr",
     "output_type": "stream",
     "text": [
      "c:\\users\\kadel\\appdata\\local\\programs\\python\\python36\\lib\\site-packages\\sklearn\\ensemble\\forest.py:248: FutureWarning: The default value of n_estimators will change from 10 in version 0.20 to 100 in 0.22.\n",
      "  \"10 in version 0.20 to 100 in 0.22.\", FutureWarning)\n"
     ]
    },
    {
     "name": "stdout",
     "output_type": "stream",
     "text": [
      "Random Forest accuracy: 0.679500\n"
     ]
    }
   ],
   "source": [
    "#Random Forest model\n",
    "from sklearn.ensemble import RandomForestClassifier\n",
    "clf[\"Random Forest\"] = RandomForestClassifier()\n",
    "clf[\"Random Forest\"].fit(train_x,train_y)\n",
    "print(\"Random Forest accuracy: %f\"%accuracy_score(test_y,clf[\"Random Forest\"].predict(test_x)))"
   ]
  },
  {
   "cell_type": "code",
   "execution_count": 11,
   "metadata": {},
   "outputs": [
    {
     "name": "stdout",
     "output_type": "stream",
     "text": [
      "KNN accuracy: 0.699500\n"
     ]
    }
   ],
   "source": [
    "#KNN Model\n",
    "from sklearn.neighbors import KNeighborsClassifier\n",
    "clf[\"KNN\"] = KNeighborsClassifier(n_neighbors=100)\n",
    "clf[\"KNN\"].fit(train_x,train_y)\n",
    "print(\"KNN accuracy: %f\"%accuracy_score(test_y,clf[\"KNN\"].predict(test_x)))"
   ]
  },
  {
   "cell_type": "code",
   "execution_count": 12,
   "metadata": {},
   "outputs": [],
   "source": [
    "pickle.dump(clf,open(\"models.pkl\",\"wb\"))"
   ]
  },
  {
   "cell_type": "code",
   "execution_count": 13,
   "metadata": {},
   "outputs": [
    {
     "data": {
      "text/plain": [
       "'\\n10000,tfidf\\nNaive Bayes accuracy: 0.736500\\nLogistic accuracy: 0.741500\\nLDA accuracy: 0.608500\\nDescision Tree accuracy: 0.677000\\nSVM accuracy: 0.524000\\nRandom Forest accuracy: 0.700500\\nKNN accuracy: 0.539500\\n------------------------------------\\n\\n1000,tfidf\\nNaive Bayes accuracy: 0.68\\nLogistic accuracy: 0.7\\nLDA accuracy: 0.595\\nDescision Tree accuracy: 0.665\\nSVM accuracy: 0.52\\nRandom Forest accuracy: 0.655\\nKNN accuracy: 0.66\\n'"
      ]
     },
     "execution_count": 13,
     "metadata": {},
     "output_type": "execute_result"
    }
   ],
   "source": [
    "\"\"\"\n",
    "10000,tfidf\n",
    "Naive Bayes accuracy: 0.736500\n",
    "Logistic accuracy: 0.741500\n",
    "LDA accuracy: 0.608500\n",
    "Descision Tree accuracy: 0.677000\n",
    "SVM accuracy: 0.524000\n",
    "Random Forest accuracy: 0.700500\n",
    "KNN accuracy: 0.539500\n",
    "------------------------------------\n",
    "\n",
    "2000,tfidf\n",
    "Naive Bayes accuracy: 0.68\n",
    "Logistic accuracy: 0.7\n",
    "LDA accuracy: 0.595\n",
    "Descision Tree accuracy: 0.665\n",
    "SVM accuracy: 0.52\n",
    "Random Forest accuracy: 0.655\n",
    "KNN accuracy: 0.66\n",
    "\"\"\""
   ]
  }
 ],
 "metadata": {
  "kernelspec": {
   "display_name": "Python 3",
   "language": "python",
   "name": "python3"
  },
  "language_info": {
   "codemirror_mode": {
    "name": "ipython",
    "version": 3
   },
   "file_extension": ".py",
   "mimetype": "text/x-python",
   "name": "python",
   "nbconvert_exporter": "python",
   "pygments_lexer": "ipython3",
   "version": "3.6.5"
  }
 },
 "nbformat": 4,
 "nbformat_minor": 2
}
